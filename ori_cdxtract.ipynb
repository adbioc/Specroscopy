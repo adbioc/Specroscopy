{
  "nbformat": 4,
  "nbformat_minor": 0,
  "metadata": {
    "colab": {
      "name": "ori_cdxtract",
      "provenance": [],
      "collapsed_sections": [],
      "authorship_tag": "ABX9TyM5lL0HSnl8Ds6zTFdvQnhO",
      "include_colab_link": true
    },
    "kernelspec": {
      "name": "python3",
      "display_name": "Python 3"
    }
  },
  "cells": [
    {
      "cell_type": "markdown",
      "metadata": {
        "id": "view-in-github",
        "colab_type": "text"
      },
      "source": [
        "<a href=\"https://colab.research.google.com/github/adbioc/Spectroscopy/blob/main/ori_cdxtract.ipynb\" target=\"_parent\"><img src=\"https://colab.research.google.com/assets/colab-badge.svg\" alt=\"Open In Colab\"/></a>"
      ]
    },
    {
      "cell_type": "code",
      "metadata": {
        "id": "u2r-rEpR0TAh",
        "outputId": "34224430-3cbb-429b-e28b-12b6a20b546c",
        "colab": {
          "base_uri": "https://localhost:8080/"
        }
      },
      "source": [
        "from google.colab import drive\n",
        "drive.mount('/content/drive')\n"
      ],
      "execution_count": null,
      "outputs": [
        {
          "output_type": "stream",
          "text": [
            "Mounted at /content/drive\n"
          ],
          "name": "stdout"
        }
      ]
    },
    {
      "cell_type": "code",
      "metadata": {
        "id": "auPsf_911rGp"
      },
      "source": [
        "import os\n",
        "os.chdir(\"/content/drive/My Drive/my_book/book_mypython/pcddb_pcd_and_gen/\")\n",
        "\n",
        "import os\n",
        "import numpy as np\n",
        "import pandas as pd\n",
        "import matplotlib.pyplot as plt\n",
        "import networkx as nx\n",
        "from scipy import sparse\n"
      ],
      "execution_count": null,
      "outputs": []
    },
    {
      "cell_type": "code",
      "metadata": {
        "id": "ph6jjfeySk7T",
        "outputId": "2cbc61f3-d53b-4345-b90e-47a7af94cfec",
        "colab": {
          "base_uri": "https://localhost:8080/",
          "height": 371
        }
      },
      "source": [
        "# The function toskip determines how many entries should be skipped \n",
        "\n",
        "def toskip(fname):\n",
        "  fo = open(fname)\n",
        "  gcont=fo.readlines()\n",
        "  n=[]\n",
        "  z=[]\n",
        "  for i in gcont:\n",
        "    n.append(len(i))\n",
        "  z=[float(i) for i in n]\n",
        "  z=np.array(z)\n",
        "  ik=np.where(z==max(z))[0]\n",
        "  ik=ik+1\n",
        "  return(gcont,ik[0])\n",
        "## CHECK \n",
        "fname='CD0003993009.gen'\n",
        "\n",
        "gcont,n=toskip(fname)\n",
        "print(n)\n",
        "#######################################################\n",
        "# To skip 18 lines of the file - The one containing the author references has the maximum length\n",
        "\n",
        "def findpdb(fname):\n",
        "  gcont,n=toskip(fname)\n",
        "  pcont=gcont[0:n]\n",
        "  N=len(gcont)\n",
        "  qcont=gcont[n:N]\n",
        "  for i in range(n):\n",
        "    s=pcont[i]\n",
        "    ss=s.split()\n",
        "    for j in ss:\n",
        "      if (j==\"PDB\"):\n",
        "        S=ss[1]\n",
        "        break\n",
        "  return(qcont,S)\n",
        "\n",
        "# Check \n",
        "\n",
        "def findswiss(fname):\n",
        "  gcont,n=toskip(fname)\n",
        "  pcont=gcont[0:n]\n",
        "  N=len(gcont)\n",
        "  qcont=gcont[n:N]\n",
        "  for i in range(n):\n",
        "    s=pcont[i]\n",
        "    ss=s.split()\n",
        "    for j in ss:\n",
        "      if (j==\"Swissprot\"):\n",
        "        S=ss[1]\n",
        "        break\n",
        "  return(qcont,S)\n",
        "\n",
        "\n",
        "qcont,S=findpdb(fname)\n",
        "print(S)\n",
        "\n",
        "################\n",
        "def subclean(s):\n",
        "  ss=s.split(\"\\t\")\n",
        "  z=[]\n",
        "  for i in s:\n",
        "    ss=s.split(\"\\t\")\n",
        "    sss=[s.strip('  ') for s in ss]\n",
        "    sss.pop(-1)\n",
        "    z=[float(i) for i in sss ]\n",
        "    z=np.asarray(z)\n",
        "    return  z\n",
        "# CHECK \n",
        "qcont,S=findpdb('CD0003993009.gen')\n",
        "s=qcont[0]\n",
        "z=subclean(s)\n",
        "print(z)\n",
        "###########################\n",
        "def find_row_col(fname):\n",
        "  gcount,nskip=toskip(fname)\n",
        "  nrow=len(gcount)-nskip\n",
        "  T=gcount[nskip]\n",
        "  ss=T.split(\"\\t\")\n",
        "  sss=[s.strip('  ') for s in ss]\n",
        "  sss.pop(-1)\n",
        "  ncol=len(sss)\n",
        "  return nrow,ncol\n",
        "#CHECK    \n",
        "\n",
        "r,c=find_row_col(fname)\n",
        "print(r,c)\n",
        "#########################\n",
        "\n",
        "def CDclean(fname):\n",
        "  r,c=find_row_col(fname)\n",
        "  qcont,S=findpdb(fname)\n",
        "  x = np.array(np.zeros((r,c), dtype = np.float)).reshape(r,c)\n",
        "  for i in range(r):\n",
        "    s=subclean(qcont[i])\n",
        "    x[i,:]=s\n",
        "  #plt.plot(x[:,0],x[:,3])\n",
        "  #plt.show()\n",
        "  return x\n",
        "##Chk\n",
        "X=CDclean('CD0001109007.gen')\n",
        "plt.plot(X[:,0],X[:,3])\n",
        "def mysplit(word): \n",
        "    return [alphabet for alphabet in word]  \n",
        "      \n",
        "# Driver code \n",
        "word = 'geeks'\n",
        "print(mysplit('CD0000110000.pcd')) \n",
        "\n"
      ],
      "execution_count": null,
      "outputs": [
        {
          "output_type": "stream",
          "text": [
            "18\n",
            "2zxe\n",
            "[2.80000e+02 2.33824e-03 2.65690e+00 2.33824e-03 0.00000e+00 0.00000e+00\n",
            " 0.00000e+00]\n",
            "101 7\n",
            "['C', 'D', '0', '0', '0', '0', '1', '1', '0', '0', '0', '0', '.', 'p', 'c', 'd']\n"
          ],
          "name": "stdout"
        },
        {
          "output_type": "display_data",
          "data": {
            "image/png": "[encoded data removed]",
            "text/plain": [
              "<Figure size 432x288 with 1 Axes>"
            ]
          },
          "metadata": {
            "tags": [],
            "needs_background": "light"
          }
        }
      ]
    },
    {
      "cell_type": "code",
      "metadata": {
        "id": "2k76SU82JH29"
      },
      "source": [
        ""
      ],
      "execution_count": null,
      "outputs": []
    },
    {
      "cell_type": "markdown",
      "metadata": {
        "id": "IvetcfJnOEl_"
      },
      "source": [
        "\n",
        "\n",
        "```\n",
        "# This is formatted as code\n",
        "```\n",
        "\n",
        "- Running fine \n",
        "- Now let us try a different thing \n",
        "- Try to find out PCDDB entries for uniprot accession number Q70Q12 (PDB ID 2zxe )"
      ]
    },
    {
      "cell_type": "code",
      "metadata": {
        "id": "JRJGo7_fyhJq",
        "outputId": "d209edcb-1dd4-479d-dabc-d54038c64eb3",
        "colab": {
          "base_uri": "https://localhost:8080/",
          "height": 53
        }
      },
      "source": [
        "def mysplit(word): \n",
        "    return [alphabet for alphabet in word]  \n",
        "      \n",
        "# Driver code \n",
        "word = 'geeks'\n",
        "W=mysplit('CD0000110000.pcd') \n",
        "print(W[0])\n",
        "s = \"\"\n",
        "s = s.join(W) \n",
        "s"
      ],
      "execution_count": null,
      "outputs": [
        {
          "output_type": "stream",
          "text": [
            "C\n"
          ],
          "name": "stdout"
        },
        {
          "output_type": "execute_result",
          "data": {
            "application/vnd.google.colaboratory.intrinsic+json": {
              "type": "string"
            },
            "text/plain": [
              "'CD0000110000.pcd'"
            ]
          },
          "metadata": {
            "tags": []
          },
          "execution_count": 4
        }
      ]
    },
    {
      "cell_type": "markdown",
      "metadata": {
        "id": "p5kev_aK0dQH"
      },
      "source": [
        "### Find out whether the file starts with \tCD000118 and ends with GEN"
      ]
    },
    {
      "cell_type": "markdown",
      "metadata": {
        "id": "ET5Q6gVsF-m0"
      },
      "source": [
        "# Strategy if finding out the filename start with CD000118  and it ends with .GEN\n"
      ]
    },
    {
      "cell_type": "markdown",
      "metadata": {
        "id": "QO6qWBm69nKa"
      },
      "source": [
        "# Each of these have the Protein Name: Sodium/potassium-transporting ATPase with uniprot accession number Q70Q12"
      ]
    },
    {
      "cell_type": "markdown",
      "metadata": {
        "id": "vMqXA_wSAzwb"
      },
      "source": [
        "We may checkthe PDB IDs of the CD spectra files as follows:"
      ]
    },
    {
      "cell_type": "code",
      "metadata": {
        "id": "FqURTJiDK2Hf"
      },
      "source": [
        "def CDstring(single_entry):\n",
        "  ff=[]\n",
        "  a=os.listdir()# Assume current directory contains CDspectra files\n",
        "  x=single_entry[0:7]\n",
        "  for i in a:\n",
        "    fbegin=i[0:7]# the file name fraction to be compared with the single entry\n",
        "    fend=i[13:16]# .gen files \n",
        "    A= fbegin==x\n",
        "    B=fend==\"gen\"\n",
        "    if (A&B):\n",
        "      ff.append(i)\n",
        "  return ff\n",
        "####################################\n",
        "# chk\n",
        "\n",
        "single_entry='CD0001109000.gen'\n",
        "ff=CDstring(single_entry)\n",
        "ff\n"
      ],
      "execution_count": null,
      "outputs": []
    },
    {
      "cell_type": "code",
      "metadata": {
        "id": "DBy9P4oZBA5_",
        "outputId": "7dbdf366-51b3-4928-a348-5f143de947ff",
        "colab": {
          "base_uri": "https://localhost:8080/",
          "height": 35
        }
      },
      "source": [
        "\n",
        "# What is the SWISSPROT or PDBID of this ?\n",
        "q,swiss=findswiss(single_entry)\n",
        "swiss\n"
      ],
      "execution_count": null,
      "outputs": [
        {
          "output_type": "execute_result",
          "data": {
            "application/vnd.google.colaboratory.intrinsic+json": {
              "type": "string"
            },
            "text/plain": [
              "'Q9KCR8'"
            ]
          },
          "metadata": {
            "tags": []
          },
          "execution_count": 6
        }
      ]
    },
    {
      "cell_type": "code",
      "metadata": {
        "id": "4ZFoYCz3K_Ow"
      },
      "source": [
        "# Answer is Q9KCR8\n",
        "# How do we find out that out of the ff entries how many have the identical \n",
        "\n",
        "####################################\n",
        "def swisscut(CDfilter1,desiredID):\n",
        "  gg=[]\n",
        "  for i in CDfilter1:\n",
        "    q,n=toskip(i)\n",
        "    a,b=findswiss(i)\n",
        "    if (b==desiredID):\n",
        "      gg.append(i)\n",
        "  return gg\n",
        "#####################################\n",
        "#chk\n",
        "gg=swisscut(ff,'Q9KCR8')\n",
        "gg\n",
        "\n",
        "# #Chk2\n",
        "\n"
      ],
      "execution_count": null,
      "outputs": []
    },
    {
      "cell_type": "code",
      "metadata": {
        "id": "t-fcU0sjNIAC"
      },
      "source": [
        ""
      ],
      "execution_count": null,
      "outputs": []
    },
    {
      "cell_type": "markdown",
      "metadata": {
        "id": "qHpkIfuXOvR_"
      },
      "source": [
        "# What we find is that still there is an isosbestic point. This isosbsetic is unique as this is caused in the organismic space"
      ]
    },
    {
      "cell_type": "markdown",
      "metadata": {
        "id": "gh_j08t0hxau"
      },
      "source": [
        "# How to enlist the PCDDB entries for a particular type of protein \n",
        "- Try with a search string in PCDDB data base for Ca2+ variation in Calcium channel protein) \n",
        "-  CDstring(single_entry) , single entry can be a file like CD0001109000.gen\n",
        "- Filtering out entries with non-identical SWISSPROT aceesion numbers (PDB amy not be avalilabe for each) from the entry set obtained by the said search string \n",
        "- Once the files are obtained they are sorted by Tempeerature \n"
      ]
    },
    {
      "cell_type": "code",
      "metadata": {
        "id": "Esd-xNPrkr54"
      },
      "source": [
        ""
      ],
      "execution_count": null,
      "outputs": []
    },
    {
      "cell_type": "markdown",
      "metadata": {
        "id": "GU-zWM9cAkvR"
      },
      "source": [
        "- Now  we have a set of files for the Voltage-activated, Ca2+  channel blocker-inhibited, Na+ channel, NaChBac (Ren et al., 2001; Zhao et al., 2004; Nurani et al, 2008; Charalambous and Wallace, 2011).\n",
        "- The temperature range is $20-85^oC$\n",
        " Arginine residues in the S4 segment play a role in voltage-sensing (Chahine et al. 2004). Transmembrane and extramembrane regions contribute to thermal stability (Powl et al., 2012). Deprotonation of arginines in S4 is involved in NaChBac gating (Paldi, 2012). Hinge-bending motions in the pore domain of NaChBac have been reported (Barber et al., 2012).  The C-terminal coiled-coli stabilizes subunit interactions (Mio et al. 2010).  Within the 4 TMS voltage sensor, coupling between residues in S1 and S4 determines its resting conformation (Paldi and Gurevitz 2010). The conserved asparagine was changed to aspartate, N225D, and this substitution shifted the voltage-dependence of inactivation by 25 mV to more hyperpolarized potentials. The mutant also displays greater thermostability (O'Reilly et al. 2017).  Possibly, the side-chain amido group of asn225 forms one or more hydrogen bonds with different channel elements, and  these interactions are important for normal channel function.\n",
        "Accession Number:\tQ9KCR8"
      ]
    },
    {
      "cell_type": "code",
      "metadata": {
        "id": "xUd_u4CRiCQS"
      },
      "source": [
        "#Assume a os listing of the directories containing the CD file \n",
        "\n",
        "\n"
      ],
      "execution_count": null,
      "outputs": []
    },
    {
      "cell_type": "code",
      "metadata": {
        "id": "z5gr41FkAVtD",
        "outputId": "47326b02-4553-4b7f-9acc-6bd49798da92",
        "colab": {
          "base_uri": "https://localhost:8080/",
          "height": 264
        }
      },
      "source": [
        "# Find Temperature  sorted file entries \n",
        "\n",
        "def CD2Temp(CDfilter2):\n",
        "  TT=[]\n",
        "  for i in CDfilter2:\n",
        "    q,n=toskip(i)\n",
        "    TT.append(q[4][23:-1])\n",
        "    a,b=findswiss(i)\n",
        "    T = [float(i) for i in TT] \n",
        "  T=np.array(T)\n",
        "  indx=np.argsort(T)\n",
        "  Tsorted=T[indx]\n",
        "  C=np.array(CDfilter2)\n",
        "  return Tsorted,indx,C[indx]\n",
        "\n",
        "\n",
        "# Chk\n",
        "T,ij,C=CD2Temp(gg)\n",
        "# Chk for CDspecrum \n",
        "\n",
        "for i in range(ij.shape[0]):\n",
        "  X=CDclean(C[i])\n",
        "  plt.plot(X[:,0],X[:,3])\n",
        "\n",
        "\n",
        "\n"
      ],
      "execution_count": null,
      "outputs": [
        {
          "output_type": "display_data",
          "data": {
            "image/png": "[encoded data removed]",
            "text/plain": [
              "<Figure size 432x288 with 1 Axes>"
            ]
          },
          "metadata": {
            "tags": [],
            "needs_background": "light"
          }
        }
      ]
    },
    {
      "cell_type": "code",
      "metadata": {
        "id": "5_LDIiWPU-Jp"
      },
      "source": [
        ""
      ],
      "execution_count": null,
      "outputs": []
    },
    {
      "cell_type": "code",
      "metadata": {
        "id": "-L7Rvz5yMbBJ"
      },
      "source": [
        "#df = pd.Dataframe(npArray)\n",
        "#df.assign('newcolumn', yourNewColumnValuesAsList)\n",
        "\n",
        "# df=pd.DataFrame()\n",
        "# df.assign(str(T[0]),CDclean(C[0])\n",
        "T,ij,C=CD2Temp(gg)\n",
        "lam=CDclean(C[0])[:,0]\n",
        "\n",
        "##########################\n",
        "\n",
        "CD_dict = { 'Lambda':lam}\n",
        "count=0\n",
        "for i in T:\n",
        "  count=count+1\n",
        "  CD_dict[i]=CDclean(C[count-1])[:,3]\n",
        "  if (count >=41):\n",
        "    break\n",
        "  \n",
        "list(CD_dict.keys())\n",
        "#X=list(CD_dict.values())\n",
        "s=pd.DataFrame.from_dict(CD_dict)\n",
        "df.to_csv('calcium_chan.csv')\n",
        "\n"
      ],
      "execution_count": null,
      "outputs": []
    },
    {
      "cell_type": "code",
      "metadata": {
        "id": "AcYe-vz_yqyc",
        "outputId": "cfe3ca09-7dbf-47f5-f501-142b98b886f6",
        "colab": {
          "base_uri": "https://localhost:8080/",
          "height": 424
        }
      },
      "source": [
        "!ls *.csv \n",
        "s\n"
      ],
      "execution_count": null,
      "outputs": [
        {
          "output_type": "stream",
          "text": [
            "calcium_chan.csv\n"
          ],
          "name": "stdout"
        },
        {
          "output_type": "execute_result",
          "data": {
            "text/html": [
              "<div>\n",
              "<style scoped>\n",
              "    .dataframe tbody tr th:only-of-type {\n",
              "        vertical-align: middle;\n",
              "    }\n",
              "\n",
              "    .dataframe tbody tr th {\n",
              "        vertical-align: top;\n",
              "    }\n",
              "\n",
              "    .dataframe thead th {\n",
              "        text-align: right;\n",
              "    }\n",
              "</style>\n",
              "<table border=\"1\" class=\"dataframe\">\n",
              "  <thead>\n",
              "    <tr style=\"text-align: right;\">\n",
              "      <th></th>\n",
              "      <th>Lambda</th>\n",
              "      <th>20.0</th>\n",
              "      <th>25.0</th>\n",
              "      <th>30.0</th>\n",
              "      <th>35.0</th>\n",
              "      <th>40.0</th>\n",
              "      <th>45.0</th>\n",
              "      <th>50.0</th>\n",
              "      <th>55.0</th>\n",
              "      <th>60.0</th>\n",
              "      <th>65.0</th>\n",
              "      <th>70.0</th>\n",
              "      <th>75.0</th>\n",
              "      <th>80.0</th>\n",
              "      <th>85.0</th>\n",
              "    </tr>\n",
              "  </thead>\n",
              "  <tbody>\n",
              "    <tr>\n",
              "      <th>0</th>\n",
              "      <td>260.0</td>\n",
              "      <td>-0.008695</td>\n",
              "      <td>0.026866</td>\n",
              "      <td>-0.036749</td>\n",
              "      <td>0.065283</td>\n",
              "      <td>0.005938</td>\n",
              "      <td>0.029302</td>\n",
              "      <td>-0.009281</td>\n",
              "      <td>0.012199</td>\n",
              "      <td>-0.031914</td>\n",
              "      <td>0.014119</td>\n",
              "      <td>0.034883</td>\n",
              "      <td>0.011028</td>\n",
              "      <td>-0.001857</td>\n",
              "      <td>0.019028</td>\n",
              "    </tr>\n",
              "    <tr>\n",
              "      <th>1</th>\n",
              "      <td>259.0</td>\n",
              "      <td>0.012656</td>\n",
              "      <td>-0.020313</td>\n",
              "      <td>0.016695</td>\n",
              "      <td>-0.018643</td>\n",
              "      <td>0.005226</td>\n",
              "      <td>-0.001876</td>\n",
              "      <td>0.008738</td>\n",
              "      <td>-0.024041</td>\n",
              "      <td>-0.003308</td>\n",
              "      <td>0.036272</td>\n",
              "      <td>0.004574</td>\n",
              "      <td>-0.004852</td>\n",
              "      <td>-0.007070</td>\n",
              "      <td>0.009657</td>\n",
              "    </tr>\n",
              "    <tr>\n",
              "      <th>2</th>\n",
              "      <td>258.0</td>\n",
              "      <td>0.040183</td>\n",
              "      <td>0.015257</td>\n",
              "      <td>0.070037</td>\n",
              "      <td>-0.030951</td>\n",
              "      <td>0.070071</td>\n",
              "      <td>-0.017390</td>\n",
              "      <td>0.055870</td>\n",
              "      <td>0.073787</td>\n",
              "      <td>0.056243</td>\n",
              "      <td>0.009635</td>\n",
              "      <td>-0.021946</td>\n",
              "      <td>0.005836</td>\n",
              "      <td>0.007501</td>\n",
              "      <td>-0.023391</td>\n",
              "    </tr>\n",
              "    <tr>\n",
              "      <th>3</th>\n",
              "      <td>257.0</td>\n",
              "      <td>0.008368</td>\n",
              "      <td>0.002449</td>\n",
              "      <td>0.011241</td>\n",
              "      <td>-0.009899</td>\n",
              "      <td>-0.000184</td>\n",
              "      <td>-0.009490</td>\n",
              "      <td>0.005112</td>\n",
              "      <td>0.002770</td>\n",
              "      <td>0.016877</td>\n",
              "      <td>-0.005143</td>\n",
              "      <td>-0.010837</td>\n",
              "      <td>-0.002109</td>\n",
              "      <td>0.007892</td>\n",
              "      <td>0.002900</td>\n",
              "    </tr>\n",
              "    <tr>\n",
              "      <th>4</th>\n",
              "      <td>256.0</td>\n",
              "      <td>-0.016040</td>\n",
              "      <td>-0.004831</td>\n",
              "      <td>0.002254</td>\n",
              "      <td>-0.020701</td>\n",
              "      <td>-0.005890</td>\n",
              "      <td>-0.011035</td>\n",
              "      <td>0.003139</td>\n",
              "      <td>0.001001</td>\n",
              "      <td>0.011443</td>\n",
              "      <td>-0.008901</td>\n",
              "      <td>-0.015153</td>\n",
              "      <td>0.006171</td>\n",
              "      <td>0.001471</td>\n",
              "      <td>-0.008821</td>\n",
              "    </tr>\n",
              "    <tr>\n",
              "      <th>...</th>\n",
              "      <td>...</td>\n",
              "      <td>...</td>\n",
              "      <td>...</td>\n",
              "      <td>...</td>\n",
              "      <td>...</td>\n",
              "      <td>...</td>\n",
              "      <td>...</td>\n",
              "      <td>...</td>\n",
              "      <td>...</td>\n",
              "      <td>...</td>\n",
              "      <td>...</td>\n",
              "      <td>...</td>\n",
              "      <td>...</td>\n",
              "      <td>...</td>\n",
              "      <td>...</td>\n",
              "    </tr>\n",
              "    <tr>\n",
              "      <th>76</th>\n",
              "      <td>184.0</td>\n",
              "      <td>7.881380</td>\n",
              "      <td>7.807890</td>\n",
              "      <td>7.853370</td>\n",
              "      <td>8.220770</td>\n",
              "      <td>7.449730</td>\n",
              "      <td>7.689470</td>\n",
              "      <td>7.108810</td>\n",
              "      <td>7.175020</td>\n",
              "      <td>7.155910</td>\n",
              "      <td>6.134880</td>\n",
              "      <td>6.131710</td>\n",
              "      <td>6.082090</td>\n",
              "      <td>4.187960</td>\n",
              "      <td>3.635190</td>\n",
              "    </tr>\n",
              "    <tr>\n",
              "      <th>77</th>\n",
              "      <td>183.0</td>\n",
              "      <td>6.980140</td>\n",
              "      <td>6.845820</td>\n",
              "      <td>6.726530</td>\n",
              "      <td>7.285450</td>\n",
              "      <td>6.470080</td>\n",
              "      <td>6.775450</td>\n",
              "      <td>6.151320</td>\n",
              "      <td>6.279050</td>\n",
              "      <td>6.157830</td>\n",
              "      <td>5.414280</td>\n",
              "      <td>5.305690</td>\n",
              "      <td>5.114360</td>\n",
              "      <td>3.654730</td>\n",
              "      <td>3.218380</td>\n",
              "    </tr>\n",
              "    <tr>\n",
              "      <th>78</th>\n",
              "      <td>182.0</td>\n",
              "      <td>6.131860</td>\n",
              "      <td>6.030890</td>\n",
              "      <td>5.750540</td>\n",
              "      <td>6.429090</td>\n",
              "      <td>5.495620</td>\n",
              "      <td>5.874860</td>\n",
              "      <td>5.305200</td>\n",
              "      <td>5.299670</td>\n",
              "      <td>5.181000</td>\n",
              "      <td>4.637620</td>\n",
              "      <td>4.564580</td>\n",
              "      <td>4.340910</td>\n",
              "      <td>3.163620</td>\n",
              "      <td>2.679930</td>\n",
              "    </tr>\n",
              "    <tr>\n",
              "      <th>79</th>\n",
              "      <td>181.0</td>\n",
              "      <td>5.357840</td>\n",
              "      <td>5.312560</td>\n",
              "      <td>4.835790</td>\n",
              "      <td>5.627160</td>\n",
              "      <td>4.518450</td>\n",
              "      <td>4.993780</td>\n",
              "      <td>4.542200</td>\n",
              "      <td>4.267350</td>\n",
              "      <td>4.183910</td>\n",
              "      <td>3.873330</td>\n",
              "      <td>3.873830</td>\n",
              "      <td>3.672480</td>\n",
              "      <td>2.664320</td>\n",
              "      <td>2.130750</td>\n",
              "    </tr>\n",
              "    <tr>\n",
              "      <th>80</th>\n",
              "      <td>180.0</td>\n",
              "      <td>4.657920</td>\n",
              "      <td>4.690650</td>\n",
              "      <td>3.982260</td>\n",
              "      <td>4.879540</td>\n",
              "      <td>3.538580</td>\n",
              "      <td>4.132260</td>\n",
              "      <td>3.862320</td>\n",
              "      <td>3.182090</td>\n",
              "      <td>3.166540</td>\n",
              "      <td>3.121400</td>\n",
              "      <td>3.233290</td>\n",
              "      <td>3.109080</td>\n",
              "      <td>2.156850</td>\n",
              "      <td>1.570850</td>\n",
              "    </tr>\n",
              "  </tbody>\n",
              "</table>\n",
              "<p>81 rows × 15 columns</p>\n",
              "</div>"
            ],
            "text/plain": [
              "    Lambda      20.0      25.0  ...      75.0      80.0      85.0\n",
              "0    260.0 -0.008695  0.026866  ...  0.011028 -0.001857  0.019028\n",
              "1    259.0  0.012656 -0.020313  ... -0.004852 -0.007070  0.009657\n",
              "2    258.0  0.040183  0.015257  ...  0.005836  0.007501 -0.023391\n",
              "3    257.0  0.008368  0.002449  ... -0.002109  0.007892  0.002900\n",
              "4    256.0 -0.016040 -0.004831  ...  0.006171  0.001471 -0.008821\n",
              "..     ...       ...       ...  ...       ...       ...       ...\n",
              "76   184.0  7.881380  7.807890  ...  6.082090  4.187960  3.635190\n",
              "77   183.0  6.980140  6.845820  ...  5.114360  3.654730  3.218380\n",
              "78   182.0  6.131860  6.030890  ...  4.340910  3.163620  2.679930\n",
              "79   181.0  5.357840  5.312560  ...  3.672480  2.664320  2.130750\n",
              "80   180.0  4.657920  4.690650  ...  3.109080  2.156850  1.570850\n",
              "\n",
              "[81 rows x 15 columns]"
            ]
          },
          "metadata": {
            "tags": []
          },
          "execution_count": 125
        }
      ]
    }
  ]
}