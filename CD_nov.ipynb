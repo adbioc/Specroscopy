{
  "nbformat": 4,
  "nbformat_minor": 0,
  "metadata": {
    "colab": {
      "name": "CD_nov.ipynb",
      "provenance": [],
      "collapsed_sections": [],
      "authorship_tag": "ABX9TyNCaS0GfG3BxHLfQ8YLu3ft",
      "include_colab_link": true
    },
    "kernelspec": {
      "name": "python3",
      "display_name": "Python 3"
    }
  },
  "cells": [
    {
      "cell_type": "markdown",
      "metadata": {
        "id": "view-in-github",
        "colab_type": "text"
      },
      "source": [
        "<a href=\"https://colab.research.google.com/github/adbioc/Spectroscopy/blob/main/CD_nov.ipynb\" target=\"_parent\"><img src=\"https://colab.research.google.com/assets/colab-badge.svg\" alt=\"Open In Colab\"/></a>"
      ]
    },
    {
      "cell_type": "markdown",
      "metadata": {
        "id": "UIkBrejDsU88"
      },
      "source": [
        "#NOV 2020 PLANS\n",
        "\n",
        "## Three peptide classes \n",
        "\n",
        "- AAGY (FULLY OPEN)\n",
        "- ABGY (FOLDED BUT!!)\n",
        "- AMV (NICELY FOLDED)\n",
        "\n",
        "\n",
        "## Peptide sequences \n",
        "### Amino acid **sequence** of the L-Ala, **all-L AAGY** peptide\n",
        "\n",
        "Ac-Ala- Ala 2-Ala-Lys-Ala- Ala 6-Lys-Ala-Lys-Ala- Ala 11-Gly-Gly-Tyr-NH2\n",
        "\n",
        "### Amino acid **sequence** of the Nα-acetylated Aib-based, **all-L ABGY** peptide\n",
        "\n",
        "Ac-Ala-Aib2-Ala-Lys-Ala-Aib6-Lys-Ala-Lys-Ala-Aib11-Gly-Gly-Tyr-NH2\n",
        "\n",
        "### Amino acid sequence of its **all-L-AMV** peptide analog\n",
        "\n",
        "Ac-Ala-AMV2-Ala-Lys-Ala- AMV6-Lys-Ala-Lys-Ala- AMV11-Gly-Gly-Tyr-NH2\n",
        "\n",
        "## For each peptide T-variation and TFE (helix inducing solvent) variation is avialable \n",
        "## Key observation  \n",
        "- AAGY and ABGY shows NO isosbestic point in water\n",
        "- AAGY at higher TFE and ABGY at lower TFE shows isosbestic point\n",
        "- AMV shows clear isosbestic point in all condition (water/TFE)\n",
        "- Sharpness of isosbestic point enhances with \n",
        "  - increase of TFE for AAGY and ABGY\n",
        "  -For AMV sharpness in isosbestic point is moderate even in only water.\n",
        "\n",
        "## Questions asked \n",
        "We want to explore\n",
        "- whether can we get any thermodynamic correlation between three states especially in water (as in drug design water is acting as only solvent) and also in TFE\n",
        "- can appearance of isosbestic point and its nature of sharpness indicates/add something more in its thermodynamic parameters\n",
        "- can  these three sets of peptides and their thermodynamic aspects be used as model/template for understanding the characteristics/behavior of protein system (e.g IDP, induced helical system or fully ordered)."
      ]
    },
    {
      "cell_type": "code",
      "metadata": {
        "id": "quEMT56KGpyt"
      },
      "source": [
        ""
      ],
      "execution_count": 122,
      "outputs": []
    },
    {
      "cell_type": "code",
      "metadata": {
        "id": "y_hGLwW_oku2",
        "outputId": "45eb7230-48f5-4d01-84fb-695b50381596",
        "colab": {
          "base_uri": "https://localhost:8080/"
        }
      },
      "source": [
        "from google.colab import drive\n",
        "drive.mount('/content/drive')"
      ],
      "execution_count": 123,
      "outputs": [
        {
          "output_type": "stream",
          "text": [
            "Drive already mounted at /content/drive; to attempt to forcibly remount, call drive.mount(\"/content/drive\", force_remount=True).\n"
          ],
          "name": "stdout"
        }
      ]
    },
    {
      "cell_type": "code",
      "metadata": {
        "id": "bCDGpTzyG7xy"
      },
      "source": [
        "import numpy as np\n",
        "from numpy import linalg as LA\n",
        "import pandas as pd\n",
        "import matplotlib.pyplot as plt\n",
        "import os\n",
        "import re\n",
        "import networkx as nx\n",
        "from sklearn.preprocessing import StandardScaler"
      ],
      "execution_count": 124,
      "outputs": []
    },
    {
      "cell_type": "markdown",
      "metadata": {
        "id": "FmC0KUi5L2mP"
      },
      "source": [
        "# Let us first explore the spectral data character \n",
        "- There are two ways of reading pandas files \n",
        "- df=pd.read_excel(xlsfile,sheet_name=<sheetName>) \n",
        "- df=pd.ExcelFile(<xlsfile>) . We can find out the sheet names by df.sheet_names\n",
        "- For simplicity we shall first explore all the 0% TFE data "
      ]
    },
    {
      "cell_type": "code",
      "metadata": {
        "id": "yOyczKJvWaCD"
      },
      "source": [
        "os.chdir(\"/content/drive/My Drive/Raja_CD/\")\n"
      ],
      "execution_count": 125,
      "outputs": []
    },
    {
      "cell_type": "code",
      "metadata": {
        "id": "J0lv7HRuWa_s",
        "outputId": "69bfa68f-f4dc-40f0-d419-8ca63080a3cb",
        "colab": {
          "base_uri": "https://localhost:8080/"
        }
      },
      "source": [
        "!ls *.xlsx"
      ],
      "execution_count": 126,
      "outputs": [
        {
          "output_type": "stream",
          "text": [
            "AMV_as_function_of_TFE_New.xlsx  AMV_Data.xlsx\n",
            "AMV_Data_All.xlsx\t\t AMV_R1_R2_function_of_TFE_New.xlsx\n"
          ],
          "name": "stdout"
        }
      ]
    },
    {
      "cell_type": "markdown",
      "metadata": {
        "id": "6bhJJU0YRJYr"
      },
      "source": [
        "# We may note that df11_amv contains the 0% TFE data for AMV "
      ]
    },
    {
      "cell_type": "code",
      "metadata": {
        "id": "JveSQGoNLyfs",
        "outputId": "1954ade5-7772-403e-ad16-dbc1acdb6c05",
        "colab": {
          "base_uri": "https://localhost:8080/",
          "height": 424
        }
      },
      "source": [
        "os.chdir(\"/content/drive/My Drive/Raja_CD/\")\n",
        "df1_amv=pd.ExcelFile('AMV_Data_All.xlsx')\n",
        "n1_amv=df1_amv.sheet_names\n",
        "print(n1_amv)\n",
        "df11_amv=pd.read_excel('AMV_Data_All.xlsx',sheet_name=n1_amv[0])\n",
        "df11_amv # 11 stands for 0 %TFE "
      ],
      "execution_count": 140,
      "outputs": [
        {
          "output_type": "stream",
          "text": [
            "['0% TFE', '10% TFE', '20% TFE', '30% TFE', 'Acetonitrile', 'Methanol']\n"
          ],
          "name": "stdout"
        },
        {
          "output_type": "execute_result",
          "data": {
            "text/html": [
              "<div>\n",
              "<style scoped>\n",
              "    .dataframe tbody tr th:only-of-type {\n",
              "        vertical-align: middle;\n",
              "    }\n",
              "\n",
              "    .dataframe tbody tr th {\n",
              "        vertical-align: top;\n",
              "    }\n",
              "\n",
              "    .dataframe thead th {\n",
              "        text-align: right;\n",
              "    }\n",
              "</style>\n",
              "<table border=\"1\" class=\"dataframe\">\n",
              "  <thead>\n",
              "    <tr style=\"text-align: right;\">\n",
              "      <th></th>\n",
              "      <th>Wavelength</th>\n",
              "      <th>5</th>\n",
              "      <th>10</th>\n",
              "      <th>15</th>\n",
              "      <th>20</th>\n",
              "      <th>25</th>\n",
              "      <th>35</th>\n",
              "      <th>45</th>\n",
              "      <th>55</th>\n",
              "    </tr>\n",
              "  </thead>\n",
              "  <tbody>\n",
              "    <tr>\n",
              "      <th>0</th>\n",
              "      <td>260.0</td>\n",
              "      <td>0.00705</td>\n",
              "      <td>0.00883</td>\n",
              "      <td>0.00908</td>\n",
              "      <td>0.00913</td>\n",
              "      <td>0.00511</td>\n",
              "      <td>0.00198</td>\n",
              "      <td>0.00700</td>\n",
              "      <td>0.00339</td>\n",
              "    </tr>\n",
              "    <tr>\n",
              "      <th>1</th>\n",
              "      <td>259.9</td>\n",
              "      <td>0.00952</td>\n",
              "      <td>0.01337</td>\n",
              "      <td>0.01542</td>\n",
              "      <td>0.01423</td>\n",
              "      <td>0.01638</td>\n",
              "      <td>0.01337</td>\n",
              "      <td>0.01894</td>\n",
              "      <td>0.00966</td>\n",
              "    </tr>\n",
              "    <tr>\n",
              "      <th>2</th>\n",
              "      <td>259.8</td>\n",
              "      <td>0.01178</td>\n",
              "      <td>0.01724</td>\n",
              "      <td>0.02103</td>\n",
              "      <td>0.01863</td>\n",
              "      <td>0.02656</td>\n",
              "      <td>0.02318</td>\n",
              "      <td>0.02966</td>\n",
              "      <td>0.01571</td>\n",
              "    </tr>\n",
              "    <tr>\n",
              "      <th>3</th>\n",
              "      <td>259.7</td>\n",
              "      <td>0.01386</td>\n",
              "      <td>0.02049</td>\n",
              "      <td>0.02597</td>\n",
              "      <td>0.02236</td>\n",
              "      <td>0.03572</td>\n",
              "      <td>0.03152</td>\n",
              "      <td>0.03924</td>\n",
              "      <td>0.02152</td>\n",
              "    </tr>\n",
              "    <tr>\n",
              "      <th>4</th>\n",
              "      <td>259.6</td>\n",
              "      <td>0.01576</td>\n",
              "      <td>0.02320</td>\n",
              "      <td>0.03028</td>\n",
              "      <td>0.02548</td>\n",
              "      <td>0.04392</td>\n",
              "      <td>0.03849</td>\n",
              "      <td>0.04775</td>\n",
              "      <td>0.02709</td>\n",
              "    </tr>\n",
              "    <tr>\n",
              "      <th>...</th>\n",
              "      <td>...</td>\n",
              "      <td>...</td>\n",
              "      <td>...</td>\n",
              "      <td>...</td>\n",
              "      <td>...</td>\n",
              "      <td>...</td>\n",
              "      <td>...</td>\n",
              "      <td>...</td>\n",
              "      <td>...</td>\n",
              "    </tr>\n",
              "    <tr>\n",
              "      <th>746</th>\n",
              "      <td>185.4</td>\n",
              "      <td>19.86155</td>\n",
              "      <td>14.95702</td>\n",
              "      <td>13.09017</td>\n",
              "      <td>11.14397</td>\n",
              "      <td>6.77257</td>\n",
              "      <td>8.40237</td>\n",
              "      <td>7.33651</td>\n",
              "      <td>4.06525</td>\n",
              "    </tr>\n",
              "    <tr>\n",
              "      <th>747</th>\n",
              "      <td>185.3</td>\n",
              "      <td>19.60550</td>\n",
              "      <td>14.96158</td>\n",
              "      <td>12.87344</td>\n",
              "      <td>10.98307</td>\n",
              "      <td>6.67137</td>\n",
              "      <td>8.23553</td>\n",
              "      <td>7.73747</td>\n",
              "      <td>4.16085</td>\n",
              "    </tr>\n",
              "    <tr>\n",
              "      <th>748</th>\n",
              "      <td>185.2</td>\n",
              "      <td>19.31594</td>\n",
              "      <td>14.96559</td>\n",
              "      <td>12.59940</td>\n",
              "      <td>10.78952</td>\n",
              "      <td>6.54669</td>\n",
              "      <td>8.07614</td>\n",
              "      <td>8.12451</td>\n",
              "      <td>4.25196</td>\n",
              "    </tr>\n",
              "    <tr>\n",
              "      <th>749</th>\n",
              "      <td>185.1</td>\n",
              "      <td>19.01277</td>\n",
              "      <td>14.97626</td>\n",
              "      <td>12.24852</td>\n",
              "      <td>10.59471</td>\n",
              "      <td>6.38678</td>\n",
              "      <td>7.91709</td>\n",
              "      <td>8.47293</td>\n",
              "      <td>4.32562</td>\n",
              "    </tr>\n",
              "    <tr>\n",
              "      <th>750</th>\n",
              "      <td>185.0</td>\n",
              "      <td>18.71244</td>\n",
              "      <td>14.97244</td>\n",
              "      <td>11.88987</td>\n",
              "      <td>10.35897</td>\n",
              "      <td>6.18008</td>\n",
              "      <td>7.77453</td>\n",
              "      <td>8.78087</td>\n",
              "      <td>4.36498</td>\n",
              "    </tr>\n",
              "  </tbody>\n",
              "</table>\n",
              "<p>751 rows × 9 columns</p>\n",
              "</div>"
            ],
            "text/plain": [
              "     Wavelength         5        10  ...       35       45       55\n",
              "0         260.0   0.00705   0.00883  ...  0.00198  0.00700  0.00339\n",
              "1         259.9   0.00952   0.01337  ...  0.01337  0.01894  0.00966\n",
              "2         259.8   0.01178   0.01724  ...  0.02318  0.02966  0.01571\n",
              "3         259.7   0.01386   0.02049  ...  0.03152  0.03924  0.02152\n",
              "4         259.6   0.01576   0.02320  ...  0.03849  0.04775  0.02709\n",
              "..          ...       ...       ...  ...      ...      ...      ...\n",
              "746       185.4  19.86155  14.95702  ...  8.40237  7.33651  4.06525\n",
              "747       185.3  19.60550  14.96158  ...  8.23553  7.73747  4.16085\n",
              "748       185.2  19.31594  14.96559  ...  8.07614  8.12451  4.25196\n",
              "749       185.1  19.01277  14.97626  ...  7.91709  8.47293  4.32562\n",
              "750       185.0  18.71244  14.97244  ...  7.77453  8.78087  4.36498\n",
              "\n",
              "[751 rows x 9 columns]"
            ]
          },
          "metadata": {
            "tags": []
          },
          "execution_count": 140
        }
      ]
    },
    {
      "cell_type": "code",
      "metadata": {
        "id": "wP8qSiYVb8XU",
        "outputId": "b4d0a4ab-fc44-4976-ae86-64fc5b2138e5",
        "colab": {
          "base_uri": "https://localhost:8080/"
        }
      },
      "source": [
        "os.chdir(\"/content/drive/My Drive/Raja_CD/freshpep\")\n",
        "df1_aagy=pd.ExcelFile('AAGY_Function of temperature.xlsx')\n",
        "n1_aagy=df1_aagy.sheet_names\n",
        "print(n1_aagy)\n",
        "\n"
      ],
      "execution_count": 141,
      "outputs": [
        {
          "output_type": "stream",
          "text": [
            "['0% TFE', '20% TFE', '40% TFE', '50% TFE']\n"
          ],
          "name": "stdout"
        }
      ]
    },
    {
      "cell_type": "markdown",
      "metadata": {
        "id": "khq5mYiCWjCx"
      },
      "source": [
        "#*df11_AAGY* 0% TFE for AAGY"
      ]
    },
    {
      "cell_type": "code",
      "metadata": {
        "id": "2skZJELcWsKO",
        "outputId": "d3514257-d746-4bd5-a21a-7285b4052f15",
        "colab": {
          "base_uri": "https://localhost:8080/",
          "height": 406
        }
      },
      "source": [
        "df11_aagy=pd.read_excel('AAGY_Function of temperature.xlsx',sheet_name=n1_aagy[0])\n",
        "df11_aagy"
      ],
      "execution_count": 129,
      "outputs": [
        {
          "output_type": "execute_result",
          "data": {
            "text/html": [
              "<div>\n",
              "<style scoped>\n",
              "    .dataframe tbody tr th:only-of-type {\n",
              "        vertical-align: middle;\n",
              "    }\n",
              "\n",
              "    .dataframe tbody tr th {\n",
              "        vertical-align: top;\n",
              "    }\n",
              "\n",
              "    .dataframe thead th {\n",
              "        text-align: right;\n",
              "    }\n",
              "</style>\n",
              "<table border=\"1\" class=\"dataframe\">\n",
              "  <thead>\n",
              "    <tr style=\"text-align: right;\">\n",
              "      <th></th>\n",
              "      <th>Wavelength</th>\n",
              "      <th>2C</th>\n",
              "      <th>6C</th>\n",
              "      <th>15C</th>\n",
              "      <th>25C</th>\n",
              "      <th>35C</th>\n",
              "      <th>45C</th>\n",
              "    </tr>\n",
              "  </thead>\n",
              "  <tbody>\n",
              "    <tr>\n",
              "      <th>0</th>\n",
              "      <td>250.0</td>\n",
              "      <td>0.01711</td>\n",
              "      <td>0.12637</td>\n",
              "      <td>-0.01588</td>\n",
              "      <td>0.09520</td>\n",
              "      <td>0.06253</td>\n",
              "      <td>-0.06758</td>\n",
              "    </tr>\n",
              "    <tr>\n",
              "      <th>1</th>\n",
              "      <td>249.9</td>\n",
              "      <td>0.01649</td>\n",
              "      <td>0.12629</td>\n",
              "      <td>-0.01574</td>\n",
              "      <td>0.09492</td>\n",
              "      <td>0.06209</td>\n",
              "      <td>-0.06694</td>\n",
              "    </tr>\n",
              "    <tr>\n",
              "      <th>2</th>\n",
              "      <td>249.8</td>\n",
              "      <td>0.01584</td>\n",
              "      <td>0.12618</td>\n",
              "      <td>-0.01559</td>\n",
              "      <td>0.09459</td>\n",
              "      <td>0.06159</td>\n",
              "      <td>-0.06634</td>\n",
              "    </tr>\n",
              "    <tr>\n",
              "      <th>3</th>\n",
              "      <td>249.7</td>\n",
              "      <td>0.01517</td>\n",
              "      <td>0.12605</td>\n",
              "      <td>-0.01544</td>\n",
              "      <td>0.09418</td>\n",
              "      <td>0.06102</td>\n",
              "      <td>-0.06577</td>\n",
              "    </tr>\n",
              "    <tr>\n",
              "      <th>4</th>\n",
              "      <td>249.6</td>\n",
              "      <td>0.01447</td>\n",
              "      <td>0.12588</td>\n",
              "      <td>-0.01528</td>\n",
              "      <td>0.09371</td>\n",
              "      <td>0.06038</td>\n",
              "      <td>-0.06523</td>\n",
              "    </tr>\n",
              "    <tr>\n",
              "      <th>...</th>\n",
              "      <td>...</td>\n",
              "      <td>...</td>\n",
              "      <td>...</td>\n",
              "      <td>...</td>\n",
              "      <td>...</td>\n",
              "      <td>...</td>\n",
              "      <td>...</td>\n",
              "    </tr>\n",
              "    <tr>\n",
              "      <th>646</th>\n",
              "      <td>185.4</td>\n",
              "      <td>2.13429</td>\n",
              "      <td>-1.75110</td>\n",
              "      <td>-3.19901</td>\n",
              "      <td>-5.24095</td>\n",
              "      <td>-5.93852</td>\n",
              "      <td>-6.31083</td>\n",
              "    </tr>\n",
              "    <tr>\n",
              "      <th>647</th>\n",
              "      <td>185.3</td>\n",
              "      <td>2.04907</td>\n",
              "      <td>-1.88684</td>\n",
              "      <td>-3.30517</td>\n",
              "      <td>-5.41692</td>\n",
              "      <td>-6.08896</td>\n",
              "      <td>-6.40434</td>\n",
              "    </tr>\n",
              "    <tr>\n",
              "      <th>648</th>\n",
              "      <td>185.2</td>\n",
              "      <td>1.95085</td>\n",
              "      <td>-2.03674</td>\n",
              "      <td>-3.42735</td>\n",
              "      <td>-5.61157</td>\n",
              "      <td>-6.25783</td>\n",
              "      <td>-6.51295</td>\n",
              "    </tr>\n",
              "    <tr>\n",
              "      <th>649</th>\n",
              "      <td>185.1</td>\n",
              "      <td>1.83932</td>\n",
              "      <td>-2.20114</td>\n",
              "      <td>-3.56600</td>\n",
              "      <td>-5.82541</td>\n",
              "      <td>-6.44566</td>\n",
              "      <td>-6.63709</td>\n",
              "    </tr>\n",
              "    <tr>\n",
              "      <th>650</th>\n",
              "      <td>185.0</td>\n",
              "      <td>1.71418</td>\n",
              "      <td>-2.38036</td>\n",
              "      <td>-3.72155</td>\n",
              "      <td>-6.05896</td>\n",
              "      <td>-6.65297</td>\n",
              "      <td>-6.77723</td>\n",
              "    </tr>\n",
              "  </tbody>\n",
              "</table>\n",
              "<p>651 rows × 7 columns</p>\n",
              "</div>"
            ],
            "text/plain": [
              "     Wavelength       2C       6C      15C      25C      35C      45C\n",
              "0         250.0  0.01711  0.12637 -0.01588  0.09520  0.06253 -0.06758\n",
              "1         249.9  0.01649  0.12629 -0.01574  0.09492  0.06209 -0.06694\n",
              "2         249.8  0.01584  0.12618 -0.01559  0.09459  0.06159 -0.06634\n",
              "3         249.7  0.01517  0.12605 -0.01544  0.09418  0.06102 -0.06577\n",
              "4         249.6  0.01447  0.12588 -0.01528  0.09371  0.06038 -0.06523\n",
              "..          ...      ...      ...      ...      ...      ...      ...\n",
              "646       185.4  2.13429 -1.75110 -3.19901 -5.24095 -5.93852 -6.31083\n",
              "647       185.3  2.04907 -1.88684 -3.30517 -5.41692 -6.08896 -6.40434\n",
              "648       185.2  1.95085 -2.03674 -3.42735 -5.61157 -6.25783 -6.51295\n",
              "649       185.1  1.83932 -2.20114 -3.56600 -5.82541 -6.44566 -6.63709\n",
              "650       185.0  1.71418 -2.38036 -3.72155 -6.05896 -6.65297 -6.77723\n",
              "\n",
              "[651 rows x 7 columns]"
            ]
          },
          "metadata": {
            "tags": []
          },
          "execution_count": 129
        }
      ]
    },
    {
      "cell_type": "markdown",
      "metadata": {
        "id": "mnYAsQNZXmQ8"
      },
      "source": [
        "# df11_ABGY 0% TFE \n"
      ]
    },
    {
      "cell_type": "code",
      "metadata": {
        "id": "bx1k5G1DdUDA",
        "outputId": "476990ef-eb38-4c16-cd7e-d385dc800e8b",
        "colab": {
          "base_uri": "https://localhost:8080/",
          "height": 424
        }
      },
      "source": [
        "os.chdir(\"/content/drive/My Drive/Raja_CD/freshpep\")\n",
        "df1_abgy=pd.ExcelFile('ABGY_Function of temperature.xlsx')\n",
        "n1_abgy=df1_abgy.sheet_names\n",
        "print(n1_abgy)\n",
        "\n",
        "df11_abgy=pd.read_excel('ABGY_Function of temperature.xlsx',sheet_name=n1_abgy[0])\n",
        "\n",
        "df11_abgy"
      ],
      "execution_count": 142,
      "outputs": [
        {
          "output_type": "stream",
          "text": [
            "['0% TFE', '5% TFE', '10% TFE', '15% TFE', '30% TFE', '40% TFE']\n"
          ],
          "name": "stdout"
        },
        {
          "output_type": "execute_result",
          "data": {
            "text/html": [
              "<div>\n",
              "<style scoped>\n",
              "    .dataframe tbody tr th:only-of-type {\n",
              "        vertical-align: middle;\n",
              "    }\n",
              "\n",
              "    .dataframe tbody tr th {\n",
              "        vertical-align: top;\n",
              "    }\n",
              "\n",
              "    .dataframe thead th {\n",
              "        text-align: right;\n",
              "    }\n",
              "</style>\n",
              "<table border=\"1\" class=\"dataframe\">\n",
              "  <thead>\n",
              "    <tr style=\"text-align: right;\">\n",
              "      <th></th>\n",
              "      <th>Wavelength</th>\n",
              "      <th>5</th>\n",
              "      <th>10</th>\n",
              "      <th>15</th>\n",
              "      <th>20</th>\n",
              "      <th>25</th>\n",
              "      <th>30</th>\n",
              "      <th>35</th>\n",
              "      <th>40</th>\n",
              "      <th>45</th>\n",
              "      <th>50</th>\n",
              "      <th>55</th>\n",
              "    </tr>\n",
              "  </thead>\n",
              "  <tbody>\n",
              "    <tr>\n",
              "      <th>0</th>\n",
              "      <td>250</td>\n",
              "      <td>0.17040</td>\n",
              "      <td>0.27757</td>\n",
              "      <td>0.22097</td>\n",
              "      <td>0.30766</td>\n",
              "      <td>0.30497</td>\n",
              "      <td>0.23001</td>\n",
              "      <td>0.19980</td>\n",
              "      <td>0.21244</td>\n",
              "      <td>0.19716</td>\n",
              "      <td>0.18151</td>\n",
              "      <td>0.17892</td>\n",
              "    </tr>\n",
              "    <tr>\n",
              "      <th>1</th>\n",
              "      <td>249</td>\n",
              "      <td>0.16617</td>\n",
              "      <td>0.25852</td>\n",
              "      <td>0.22344</td>\n",
              "      <td>0.26424</td>\n",
              "      <td>0.24586</td>\n",
              "      <td>0.20976</td>\n",
              "      <td>0.23409</td>\n",
              "      <td>0.21338</td>\n",
              "      <td>0.18787</td>\n",
              "      <td>0.15396</td>\n",
              "      <td>0.13394</td>\n",
              "    </tr>\n",
              "    <tr>\n",
              "      <th>2</th>\n",
              "      <td>248</td>\n",
              "      <td>0.16184</td>\n",
              "      <td>0.24129</td>\n",
              "      <td>0.22014</td>\n",
              "      <td>0.22687</td>\n",
              "      <td>0.20206</td>\n",
              "      <td>0.19257</td>\n",
              "      <td>0.23481</td>\n",
              "      <td>0.19623</td>\n",
              "      <td>0.16738</td>\n",
              "      <td>0.12873</td>\n",
              "      <td>0.09787</td>\n",
              "    </tr>\n",
              "    <tr>\n",
              "      <th>3</th>\n",
              "      <td>247</td>\n",
              "      <td>0.15389</td>\n",
              "      <td>0.22267</td>\n",
              "      <td>0.20935</td>\n",
              "      <td>0.19214</td>\n",
              "      <td>0.16646</td>\n",
              "      <td>0.17345</td>\n",
              "      <td>0.21056</td>\n",
              "      <td>0.16483</td>\n",
              "      <td>0.13644</td>\n",
              "      <td>0.10140</td>\n",
              "      <td>0.06564</td>\n",
              "    </tr>\n",
              "    <tr>\n",
              "      <th>4</th>\n",
              "      <td>246</td>\n",
              "      <td>0.13933</td>\n",
              "      <td>0.19976</td>\n",
              "      <td>0.18958</td>\n",
              "      <td>0.15701</td>\n",
              "      <td>0.13322</td>\n",
              "      <td>0.14845</td>\n",
              "      <td>0.16816</td>\n",
              "      <td>0.12211</td>\n",
              "      <td>0.09573</td>\n",
              "      <td>0.06856</td>\n",
              "      <td>0.03303</td>\n",
              "    </tr>\n",
              "    <tr>\n",
              "      <th>...</th>\n",
              "      <td>...</td>\n",
              "      <td>...</td>\n",
              "      <td>...</td>\n",
              "      <td>...</td>\n",
              "      <td>...</td>\n",
              "      <td>...</td>\n",
              "      <td>...</td>\n",
              "      <td>...</td>\n",
              "      <td>...</td>\n",
              "      <td>...</td>\n",
              "      <td>...</td>\n",
              "      <td>...</td>\n",
              "    </tr>\n",
              "    <tr>\n",
              "      <th>56</th>\n",
              "      <td>194</td>\n",
              "      <td>2.80330</td>\n",
              "      <td>2.51477</td>\n",
              "      <td>2.28996</td>\n",
              "      <td>1.81528</td>\n",
              "      <td>1.88762</td>\n",
              "      <td>1.27021</td>\n",
              "      <td>1.32945</td>\n",
              "      <td>1.18714</td>\n",
              "      <td>0.95242</td>\n",
              "      <td>0.98205</td>\n",
              "      <td>0.92348</td>\n",
              "    </tr>\n",
              "    <tr>\n",
              "      <th>57</th>\n",
              "      <td>193</td>\n",
              "      <td>3.28448</td>\n",
              "      <td>2.90536</td>\n",
              "      <td>2.71834</td>\n",
              "      <td>2.23190</td>\n",
              "      <td>2.24676</td>\n",
              "      <td>1.60051</td>\n",
              "      <td>1.67563</td>\n",
              "      <td>1.56674</td>\n",
              "      <td>1.22472</td>\n",
              "      <td>1.30647</td>\n",
              "      <td>1.30339</td>\n",
              "    </tr>\n",
              "    <tr>\n",
              "      <th>58</th>\n",
              "      <td>192</td>\n",
              "      <td>3.59334</td>\n",
              "      <td>3.07990</td>\n",
              "      <td>2.95455</td>\n",
              "      <td>2.51506</td>\n",
              "      <td>2.42175</td>\n",
              "      <td>1.84443</td>\n",
              "      <td>1.85689</td>\n",
              "      <td>1.82769</td>\n",
              "      <td>1.38360</td>\n",
              "      <td>1.48756</td>\n",
              "      <td>1.55734</td>\n",
              "    </tr>\n",
              "    <tr>\n",
              "      <th>59</th>\n",
              "      <td>191</td>\n",
              "      <td>3.68894</td>\n",
              "      <td>2.97964</td>\n",
              "      <td>2.94119</td>\n",
              "      <td>2.62777</td>\n",
              "      <td>2.35930</td>\n",
              "      <td>1.99433</td>\n",
              "      <td>1.81697</td>\n",
              "      <td>1.93074</td>\n",
              "      <td>1.41005</td>\n",
              "      <td>1.47507</td>\n",
              "      <td>1.63846</td>\n",
              "    </tr>\n",
              "    <tr>\n",
              "      <th>60</th>\n",
              "      <td>190</td>\n",
              "      <td>3.53037</td>\n",
              "      <td>2.54204</td>\n",
              "      <td>2.61623</td>\n",
              "      <td>2.53124</td>\n",
              "      <td>2.00205</td>\n",
              "      <td>2.04766</td>\n",
              "      <td>1.49293</td>\n",
              "      <td>1.83295</td>\n",
              "      <td>1.28775</td>\n",
              "      <td>1.21251</td>\n",
              "      <td>1.49424</td>\n",
              "    </tr>\n",
              "  </tbody>\n",
              "</table>\n",
              "<p>61 rows × 12 columns</p>\n",
              "</div>"
            ],
            "text/plain": [
              "    Wavelength        5       10       15  ...       40       45       50       55\n",
              "0          250  0.17040  0.27757  0.22097  ...  0.21244  0.19716  0.18151  0.17892\n",
              "1          249  0.16617  0.25852  0.22344  ...  0.21338  0.18787  0.15396  0.13394\n",
              "2          248  0.16184  0.24129  0.22014  ...  0.19623  0.16738  0.12873  0.09787\n",
              "3          247  0.15389  0.22267  0.20935  ...  0.16483  0.13644  0.10140  0.06564\n",
              "4          246  0.13933  0.19976  0.18958  ...  0.12211  0.09573  0.06856  0.03303\n",
              "..         ...      ...      ...      ...  ...      ...      ...      ...      ...\n",
              "56         194  2.80330  2.51477  2.28996  ...  1.18714  0.95242  0.98205  0.92348\n",
              "57         193  3.28448  2.90536  2.71834  ...  1.56674  1.22472  1.30647  1.30339\n",
              "58         192  3.59334  3.07990  2.95455  ...  1.82769  1.38360  1.48756  1.55734\n",
              "59         191  3.68894  2.97964  2.94119  ...  1.93074  1.41005  1.47507  1.63846\n",
              "60         190  3.53037  2.54204  2.61623  ...  1.83295  1.28775  1.21251  1.49424\n",
              "\n",
              "[61 rows x 12 columns]"
            ]
          },
          "metadata": {
            "tags": []
          },
          "execution_count": 142
        }
      ]
    },
    {
      "cell_type": "markdown",
      "metadata": {
        "id": "QdBL3AMla9-R"
      },
      "source": [
        "# Now let us have the temperature varying spectra for AMV, AAGY and ABGY "
      ]
    },
    {
      "cell_type": "code",
      "metadata": {
        "id": "eprsjzdqboBS"
      },
      "source": [
        "def findT(df):\n",
        "  T=[]\n",
        "  TTCD=df\n",
        "  ll=list(TTCD.columns.values)\n",
        "  ll.remove(ll[0])\n",
        "  return np.array(ll)"
      ],
      "execution_count": 143,
      "outputs": []
    },
    {
      "cell_type": "markdown",
      "metadata": {
        "id": "0GqS5BpWbQc5"
      },
      "source": [
        "# FOR AMV "
      ]
    },
    {
      "cell_type": "code",
      "metadata": {
        "id": "BVBnVtWFbm5L",
        "outputId": "3a5a1d22-abad-40fe-ef70-9ed861dfd96f",
        "colab": {
          "base_uri": "https://localhost:8080/"
        }
      },
      "source": [
        "T_amv=findT(df11_amv)\n",
        "T_amv"
      ],
      "execution_count": 144,
      "outputs": [
        {
          "output_type": "execute_result",
          "data": {
            "text/plain": [
              "array([ 5, 10, 15, 20, 25, 35, 45, 55])"
            ]
          },
          "metadata": {
            "tags": []
          },
          "execution_count": 144
        }
      ]
    },
    {
      "cell_type": "markdown",
      "metadata": {
        "id": "pqjcTzrLcF55"
      },
      "source": [
        "## For AAGY "
      ]
    },
    {
      "cell_type": "code",
      "metadata": {
        "id": "xEHK7JcycIVE",
        "outputId": "6a02894e-a929-40c8-fe17-3a9cd2b42d39",
        "colab": {
          "base_uri": "https://localhost:8080/"
        }
      },
      "source": [
        "T_aagy=findT(df11_aagy)\n",
        "T_aagy\n"
      ],
      "execution_count": 145,
      "outputs": [
        {
          "output_type": "execute_result",
          "data": {
            "text/plain": [
              "array(['2C', '6C', '15C', '25C', '35C', '45C'], dtype='<U3')"
            ]
          },
          "metadata": {
            "tags": []
          },
          "execution_count": 145
        }
      ]
    },
    {
      "cell_type": "markdown",
      "metadata": {
        "id": "2KKWhRxddPnu"
      },
      "source": [
        "# Since the temperature is coming in a format that contains a string we have to strip the string C "
      ]
    },
    {
      "cell_type": "code",
      "metadata": {
        "id": "zjKvY2uqbk51",
        "outputId": "c8511443-6437-4012-8bb6-9372141047b0",
        "colab": {
          "base_uri": "https://localhost:8080/"
        }
      },
      "source": [
        "def tonumbers(s):\n",
        "  # 20C=>20\n",
        "  S=[]\n",
        "  for i in s:\n",
        "    S.append(int(re.search(r\"\\d+\", i).group(0)))\n",
        "  return(S)\n",
        "T_aagyn=tonumbers(T_aagy)\n",
        "T_aagyn"
      ],
      "execution_count": 146,
      "outputs": [
        {
          "output_type": "execute_result",
          "data": {
            "text/plain": [
              "[2, 6, 15, 25, 35, 45]"
            ]
          },
          "metadata": {
            "tags": []
          },
          "execution_count": 146
        }
      ]
    },
    {
      "cell_type": "markdown",
      "metadata": {
        "id": "rFZGbl_heETK"
      },
      "source": [
        "## For ABGY "
      ]
    },
    {
      "cell_type": "code",
      "metadata": {
        "id": "oQd1_RJpcrfd",
        "outputId": "58d209f2-8339-444e-e241-5463f572777b",
        "colab": {
          "base_uri": "https://localhost:8080/"
        }
      },
      "source": [
        "T_abgy=findT(df11_abgy)\n",
        "T_abgy # Comes in numbers - no conversion required"
      ],
      "execution_count": 147,
      "outputs": [
        {
          "output_type": "execute_result",
          "data": {
            "text/plain": [
              "array([ 5, 10, 15, 20, 25, 30, 35, 40, 45, 50, 55])"
            ]
          },
          "metadata": {
            "tags": []
          },
          "execution_count": 147
        }
      ]
    },
    {
      "cell_type": "markdown",
      "metadata": {
        "id": "vYtMtPJrecLZ"
      },
      "source": [
        "# Now Let us draw the spectra for each set (AMV,AAGY,ABGY)at 0% (or at 5% TFE, when 0% data is not available)  "
      ]
    },
    {
      "cell_type": "code",
      "metadata": {
        "id": "JZ9Ry6Fpe0JX"
      },
      "source": [
        "def readCDT(df,T,pepname):# T must be in numbers \n",
        "  \n",
        "  X=df.values\n",
        "  lam=X[:,0]\n",
        "  lam=np.delete(lam,0)\n",
        "  X=np.delete(X, 0, axis=1)\n",
        "  X=np.delete(X, 0, axis=0)\n",
        "  r,c=X.shape\n",
        "  plt.figure(figsize=(8, 7))\n",
        "  for i in range(c):\n",
        "      plt.plot(lam,X[:,i],label=str(T[i]))\n",
        "      plt.ylabel(r'$[\\theta ^o] cm^2 dmol^{-1}\\cdot 10^{-3} $')\n",
        "      plt.xlabel(r'$\\lambda (nm)$')\n",
        "      plt.title(['$T$ Variation in C',pepname])\n",
        "      plt.legend(bbox_to_anchor=(1.05, 1), loc='upper left', borderaxespad=0.)\n",
        "  return T,lam,X "
      ],
      "execution_count": 148,
      "outputs": []
    },
    {
      "cell_type": "code",
      "metadata": {
        "id": "xIZnBfmbfLvE",
        "outputId": "3b564fbb-8edc-4087-9f54-9b351db88b99",
        "colab": {
          "base_uri": "https://localhost:8080/",
          "height": 463
        }
      },
      "source": [
        " T_amv,lam_amv,X_amv = readCDT(df11_amv,T_amv,'AMV')"
      ],
      "execution_count": 149,
      "outputs": [
        {
          "output_type": "display_data",
          "data": {
            "image/png": "[encoded data removed]",
            "text/plain": [
              "<Figure size 576x504 with 1 Axes>"
            ]
          },
          "metadata": {
            "tags": [],
            "needs_background": "light"
          }
        }
      ]
    },
    {
      "cell_type": "code",
      "metadata": {
        "id": "qAGmksZdg3Hu"
      },
      "source": [
        ""
      ],
      "execution_count": 137,
      "outputs": []
    },
    {
      "cell_type": "code",
      "metadata": {
        "id": "WaC1XX8mgc8J",
        "outputId": "cc619396-6cf6-4854-dcbe-189defb0d610",
        "colab": {
          "base_uri": "https://localhost:8080/",
          "height": 463
        }
      },
      "source": [
        " T_aagy,lam_aagy_amv,X_aagy = readCDT(df11_aagy,T_aagyn,'AAGY')"
      ],
      "execution_count": 150,
      "outputs": [
        {
          "output_type": "display_data",
          "data": {
            "image/png": "[encoded data removed]",
            "text/plain": [
              "<Figure size 576x504 with 1 Axes>"
            ]
          },
          "metadata": {
            "tags": [],
            "needs_background": "light"
          }
        }
      ]
    },
    {
      "cell_type": "code",
      "metadata": {
        "id": "Exw-ZlIxhCRQ",
        "outputId": "65e931ed-236e-4536-8c1c-1c03f17e3bce",
        "colab": {
          "base_uri": "https://localhost:8080/",
          "height": 463
        }
      },
      "source": [
        " T_abgy,lam_abgy_amv,X_abgy = readCDT(df11_abgy,T_abgy,'AbGY')"
      ],
      "execution_count": 151,
      "outputs": [
        {
          "output_type": "display_data",
          "data": {
            "image/png": "[encoded data removed]",
            "text/plain": [
              "<Figure size 576x504 with 1 Axes>"
            ]
          },
          "metadata": {
            "tags": [],
            "needs_background": "light"
          }
        }
      ]
    }
  ]
}